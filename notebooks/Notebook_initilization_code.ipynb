{
 "cells": [
  {
   "cell_type": "markdown",
   "id": "08e17295-166c-47b5-beb9-32f5466512f6",
   "metadata": {},
   "source": [
    "Code to initialize a notebook with all the necessary functions below."
   ]
  },
  {
   "cell_type": "code",
   "execution_count": 1,
   "id": "1c62d5e2",
   "metadata": {
    "scrolled": true
   },
   "outputs": [],
   "source": [
    "# Import all the functions you need\n",
    "%load_ext autoreload\n",
    "%autoreload 2\n",
    "\n",
    "import numpy as np\n",
    "import matplotlib.pyplot as plt\n",
    "import seaborn as sns\n",
    "import pandas as pd\n",
    "import sys\n",
    "import os\n",
    "from pathlib import Path\n",
    "import platform\n",
    "\n",
    "# Comment here to add in for either mac or linux computer\n",
    "if platform.system() == \"Linux\":   # for linux\n",
    "    sys.path.extend(['/data/GitHub/NeuroPy']) \n",
    "    sys.path.extend(['/data/GitHub/TraceFC/'])\n",
    "elif platform.system() == \"Darwin\":\n",
    "    sys.path.extend(['/Users/nkinsky/Documents/UM/GitHub/NeuroPy'])\n",
    "    sys.path.extend(['/Users/nkinsky/Documents/UM/GitHub/TraceFC'])\n",
    "elif platform.system() == \"Windows\":\n",
    "    print('No windows repositories defined')\n",
    "\n",
    "from neuropy import core\n",
    "from neuropy.io import (optitrackio,\n",
    "                        dlcio,\n",
    "                        )\n",
    "from neuropy.io.neuroscopeio import NeuroscopeIO\n",
    "from neuropy.io.binarysignalio import BinarysignalIO \n",
    "from neuropy.io.miniscopeio import MiniscopeIO\n",
    "from neuropy.core import Epoch\n",
    "from neuropy.utils import plot_util\n",
    "from neuropy.utils.signal_process import WaveletSg\n",
    "from neuropy.plotting.spikes import plot_raster, plot_binned_raster\n",
    "from neuropy.plotting.signals import plot_signal_w_epochs, plot_spectrogram"
   ]
  },
  {
   "cell_type": "code",
   "execution_count": 8,
   "id": "d4a72eaf",
   "metadata": {},
   "outputs": [],
   "source": [
    "# Define a class for a typical recording or set of recordings\n",
    "class ProcessData:\n",
    "    def __init__(self, basepath):\n",
    "        basepath = Path(basepath)\n",
    "        self.basepath = basepath\n",
    "        xml_files = sorted(basepath.glob(\"*.xml\"))\n",
    "        assert len(xml_files) == 1, \"Found more than one .xml file\"\n",
    "        \n",
    "        fp = xml_files[0].with_suffix(\"\")\n",
    "        self.filePrefix = fp\n",
    "        \n",
    "        self.recinfo = NeuroscopeIO(xml_files[0])\n",
    "        eegfiles = sorted(basepath.glob('*.eeg'))\n",
    "        assert len(eegfiles) == 1, \"Fewer/more than one .eeg file detected\"\n",
    "        self.eegfile = BinarysignalIO(eegfiles[0], n_channels=self.recinfo.n_channels,\n",
    "                                     sampling_rate=self.recinfo.eeg_sampling_rate,\n",
    "                                     )\n",
    "        try:\n",
    "            self.datfile = BinarysignalIO(eegfiles[0].with_suffix('.dat'),\n",
    "                                         n_channels=self.recinfo.n_channels,\n",
    "                                         sampling_rate=self.recinfo.dat_sampling_rate,\n",
    "                                         )\n",
    "        except FileNotFoundError:\n",
    "            print('No dat file found, not loading')\n",
    "                \n",
    "        \n",
    "    def __repr__(self) -> str:\n",
    "        return f\"{self.__class__.__name__}({self.recinfo.source_file.name})\"\n",
    "    \n",
    "def sess_use(basepath=os.getcwd()):\n",
    "\n",
    "    return ProcessData(basepath)"
   ]
  },
  {
   "cell_type": "code",
   "execution_count": 9,
   "id": "258b9191",
   "metadata": {
    "scrolled": true
   },
   "outputs": [
    {
     "name": "stdout",
     "output_type": "stream",
     "text": [
      "filename: /data2/Trace_FC/Recording_Rats/Finn/2022_01_20_training/Finn_training_denoised.xml \n",
      "# channels: 35\n",
      "sampling rate: 30000\n",
      "lfp Srate (downsampled): 1250\n",
      "\n"
     ]
    }
   ],
   "source": [
    "sess = Finn_training()\n",
    "print(sess.recinfo)"
   ]
  },
  {
   "cell_type": "code",
   "execution_count": 10,
   "id": "80fb1e0f",
   "metadata": {},
   "outputs": [
    {
     "name": "stdout",
     "output_type": "stream",
     "text": [
      "duration: 17303.33 seconds \n",
      "duration: 4.81 hours \n",
      "\n"
     ]
    }
   ],
   "source": [
    "print(sess.eegfile)"
   ]
  }
 ],
 "metadata": {
  "kernelspec": {
   "display_name": "Python 3 (ipykernel)",
   "language": "python",
   "name": "python3"
  },
  "language_info": {
   "codemirror_mode": {
    "name": "ipython",
    "version": 3
   },
   "file_extension": ".py",
   "mimetype": "text/x-python",
   "name": "python",
   "nbconvert_exporter": "python",
   "pygments_lexer": "ipython3",
   "version": "3.11.5"
  },
  "widgets": {
   "application/vnd.jupyter.widget-state+json": {
    "state": {},
    "version_major": 2,
    "version_minor": 0
   }
  }
 },
 "nbformat": 4,
 "nbformat_minor": 5
}
