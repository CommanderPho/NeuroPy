{
 "cells": [
  {
   "cell_type": "markdown",
   "id": "badea78c",
   "metadata": {},
   "source": [
    "This notebook hijacks the spyking-circus backbone to run a notch filter on your data."
   ]
  },
  {
   "cell_type": "markdown",
   "id": "473a5187",
   "metadata": {},
   "source": [
    "# First, you need to install the packages `mpi4py` and `blosc` in your environment.\n",
    "\n",
    "`conda install -c conda-forge mpi4py`  \n",
    "`conda install -c conda-forge python-blosc`  \n",
    "`conda install -c conda-forge psutil`\n",
    "  \n",
    "Note that you might also need to install some other commonly installed packages (e.g. numpy) that aren't listed here."
   ]
  },
  {
   "cell_type": "markdown",
   "id": "420c8784",
   "metadata": {},
   "source": [
    "Note that you might be able to accelerate everything with your GPU on Linux! See the following message that popped up when I installed `mpi4py`:  \n",
    "\n",
    "```\n",
    "For Linux 64, Open MPI is built with CUDA awareness but this support is disabled by default.\n",
    "To enable it, please set the environment variable OMPI_MCA_opal_cuda_support=true before\n",
    "launching your MPI processes. Equivalently, you can set the MCA parameter in the command line:\n",
    "mpiexec --mca opal_cuda_support 1 ...\n",
    " \n",
    "In addition, the UCX support is also built but disabled by default.\n",
    "To enable it, first install UCX (conda install -c conda-forge ucx). Then, set the environment\n",
    "variables OMPI_MCA_pml=\"ucx\" OMPI_MCA_osc=\"ucx\" before launching your MPI processes.\n",
    "Equivalently, you can set the MCA parameters in the command line:\n",
    "mpiexec --mca pml ucx --mca osc ucx ...\n",
    "Note that you might also need to set UCX_MEMTYPE_CACHE=n for CUDA awareness via UCX.\n",
    "Please consult UCX's documentation for detail.\n",
    "```\n"
   ]
  },
  {
   "cell_type": "markdown",
   "id": "f842a535",
   "metadata": {},
   "source": [
    "Just like for spyking-circus, you need to have a `session_name.dat` and `session_name.params` file in the same folder before running.  \n",
    "  \n",
    "~~At this point, you want to have the `overwrite` flag set to `False`, unlike for normal running of spyking-circus.~~  \n",
    "NVM - seems to be lots of issues in spyking-circus with this."
   ]
  },
  {
   "cell_type": "code",
   "execution_count": 3,
   "id": "3940f8ca",
   "metadata": {},
   "outputs": [],
   "source": [
    "import sys\n",
    "sys.path.append('/data/GitHub/spyking-circus/')\n",
    "\n",
    "from circus.shared.parser import CircusParser\n",
    "from circus.filtering import main\n",
    "\n",
    "def miniscope_filter(dir_use: str, dat_file_name: str ='continuous_combined.dat', top_limit: int or float = 540):\n",
    "    \"\"\"Filters file to get rid of EWL + 60Hz + harmonic noise\"\"\"\n",
    "    \n",
    "    dir_use = Path('/data/Working/Trace_FC/Recording_Rats/Finn/2022_01_18_habituation')\n",
    "    dat_file = sorted(dir_use.glob(\"*\" + dat_file_name))[0]\n",
    "    params = CircusParser(str(dat_file))\n",
    "    # Set up filter for EWL, EWL harmonic and 60Hz\n",
    "    notch_filter = [{'w0': 4843.0, 'bw': 45, 'Q': None}, {'w0': 4843.0*3, 'bw': 35, 'Q': None}, \n",
    "                    {'w0': 60.0, 'bw': None, 'Q': 30.0}] \n",
    "    \n",
    "    # Set up filters for 60Hz harmonics up to top_limit - might want to lower top limit to bottom limit of bandpass filter in spyking-circus\n",
    "    harmonics = np.arange(180, top_limit+1, 120)\n",
    "    bw_harm = 4\n",
    "    for harmonic in harmonics:\n",
    "        notch_filter.append({'w0': harmonic, 'bw': bw_harm, 'Q': None})\n",
    "\n",
    "    for idf, filter in enumerate(notch_filter):\n",
    "        main(params, 8, 0, False, filter, idf == len(notch_filter) - 1)\n"
   ]
  }
 ],
 "metadata": {
  "kernelspec": {
   "display_name": "Python 3 (ipykernel)",
   "language": "python",
   "name": "python3"
  },
  "language_info": {
   "codemirror_mode": {
    "name": "ipython",
    "version": 3
   },
   "file_extension": ".py",
   "mimetype": "text/x-python",
   "name": "python",
   "nbconvert_exporter": "python",
   "pygments_lexer": "ipython3",
   "version": "3.9.7"
  }
 },
 "nbformat": 4,
 "nbformat_minor": 5
}
