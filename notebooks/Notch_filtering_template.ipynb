{
 "cells": [
  {
   "cell_type": "markdown",
   "id": "badea78c",
   "metadata": {},
   "source": [
    "This notebook hijacks the spyking-circus backbone to run a notch filter on your data."
   ]
  },
  {
   "cell_type": "markdown",
   "id": "b9f265fc",
   "metadata": {},
   "source": [
    "# Step 0: set up filtering via spyking-circus modification in python"
   ]
  },
  {
   "cell_type": "markdown",
   "id": "473a5187",
   "metadata": {},
   "source": [
    "### First, you need to install the packages `mpi4py` and `blosc` in your environment.\n",
    "\n",
    "`conda install -c conda-forge mpi4py`  \n",
    "`conda install -c conda-forge python-blosc`  \n",
    "`conda install -c conda-forge psutil`\n",
    "  \n",
    "Note that you might also need to install some other commonly installed packages (e.g. numpy) that aren't listed here."
   ]
  },
  {
   "cell_type": "markdown",
   "id": "420c8784",
   "metadata": {},
   "source": [
    "Note that you might be able to accelerate everything with your GPU on Linux! See the following message that popped up when I installed `mpi4py`:  \n",
    "\n",
    "```\n",
    "For Linux 64, Open MPI is built with CUDA awareness but this support is disabled by default.\n",
    "To enable it, please set the environment variable OMPI_MCA_opal_cuda_support=true before\n",
    "launching your MPI processes. Equivalently, you can set the MCA parameter in the command line:\n",
    "mpiexec --mca opal_cuda_support 1 ...\n",
    " \n",
    "In addition, the UCX support is also built but disabled by default.\n",
    "To enable it, first install UCX (conda install -c conda-forge ucx). Then, set the environment\n",
    "variables OMPI_MCA_pml=\"ucx\" OMPI_MCA_osc=\"ucx\" before launching your MPI processes.\n",
    "Equivalently, you can set the MCA parameters in the command line:\n",
    "mpiexec --mca pml ucx --mca osc ucx ...\n",
    "Note that you might also need to set UCX_MEMTYPE_CACHE=n for CUDA awareness via UCX.\n",
    "Please consult UCX's documentation for detail.\n",
    "```\n"
   ]
  },
  {
   "cell_type": "markdown",
   "id": "8da6c500",
   "metadata": {},
   "source": [
    "### Next, you need to get the spyking-circus code that has been adjusted for notch filtering  \n",
    "Either clone or copy files from here: https://github.com/nkinsky/spyking-circus.git"
   ]
  },
  {
   "cell_type": "markdown",
   "id": "2cb08019",
   "metadata": {},
   "source": [
    "### Alternatively, you can install spyking-circus and then overwrite the `filtering.py` file with the one in my github repo above  \n",
    "```\n",
    ">> conda create -n circus python=3.6\n",
    ">> conda activate circus  \n",
    "(circus) >> conda install -c conda-forge -c spyking-circus spyking-circus\n",
    "```\n",
    "Full instructions here: https://spyking-circus.readthedocs.io/en/latest/introduction/install.html  \n",
    "  \n",
    "Then type: `$ conda env list` to find the spyking-circus phy environment base path (`circus_env_path`) and then navigate to `circus_env_path/lib/python3.6/site-packages/circus` or something similar to find the `filtering.py` file to overwrite.\n"
   ]
  },
  {
   "cell_type": "markdown",
   "id": "48717a1f",
   "metadata": {},
   "source": [
    "# SUPER IMPORTANT NOTE:  \n",
    "### Step #2 below will OVERWRITE any dat file you run it on, so make sure you have backup copies before proceeding."
   ]
  },
  {
   "cell_type": "markdown",
   "id": "49f23cf5",
   "metadata": {},
   "source": [
    "After following the install steps at the bottom, run the following steps to de-noise the .dat file."
   ]
  },
  {
   "cell_type": "markdown",
   "id": "9a3a0211",
   "metadata": {},
   "source": [
    "## Step 1: combine into one .dat file  \n",
    "  \n",
    "In terminal, type: `bash cat_dat_file.sh 104`  \n",
    "This will create a new combined dat file named `continuous_combined.dat` while leaving the original dat files intact."
   ]
  },
  {
   "cell_type": "markdown",
   "id": "72e80aa3",
   "metadata": {},
   "source": [
    "## Step 2: Remove EWL noise (and in some cases, 60 Hz noise) + harmonics  \n",
    "  \n",
    "Run the following code blocks:"
   ]
  },
  {
   "cell_type": "code",
   "execution_count": null,
   "id": "15983fef",
   "metadata": {},
   "outputs": [],
   "source": [
    "import sys\n",
    "sys.path.append('/data/GitHub/spyking-circus')  # Add in the path to your spyking-circus repository here\n",
    "\n",
    "from circus.filtering import miniscope_filter\n",
    "\n",
    "dat_file = \"/data/Working/Trace_FC/Recording_Rats/Finn/2022_01_17_habituation/continuous_combined.dat\"\n",
    "# This limits noise removal to the EWL frequency and its first three harmonics, and 60Hz + its\n",
    "# harmonics up to top_limit\n",
    "miniscope_filter(dat_filter, top_limit=300)  \n",
    "\n"
   ]
  },
  {
   "cell_type": "markdown",
   "id": "f0483191",
   "metadata": {},
   "source": [
    "## Step 2, Alternate #1 (No 60Hz noise):\n",
    "In the event you don't have 60Hz noise (e.g. after 1/17 I used a headstage with GND and REF disconnected which eliminated 60Hz noise), you can just set top limit to 0 and adjust the notch_filter default params to eliminate 60Hz:"
   ]
  },
  {
   "cell_type": "code",
   "execution_count": null,
   "id": "a5d65c63",
   "metadata": {},
   "outputs": [],
   "source": [
    "notch_filter = [\n",
    "            {\"w0\": 4843.0, \"bw\": 120, \"Q\": None},\n",
    "            {\"w0\": 4843.0 * 2, \"bw\": 60, \"Q\": None},\n",
    "            {\"w0\": 4843.0 * 3, \"bw\": 100, \"Q\": None},\n",
    "        ]\n",
    "miniscope_filter(dat_filter, top_limit=0)  "
   ]
  },
  {
   "cell_type": "markdown",
   "id": "d5198f51",
   "metadata": {},
   "source": [
    "## Step 2, Alternate #2 (No 60Hz noise and drifting EWL noise during first recording):\n",
    "In some cases, I have observed the EWL noise starting at 4849 Hz and then drifting to a steady state at ~4843.  You will need to adjust the default notch_filter parameters as follows for this case:\n"
   ]
  },
  {
   "cell_type": "code",
   "execution_count": null,
   "id": "a6c96879",
   "metadata": {},
   "outputs": [],
   "source": [
    "notch_filter = [\n",
    "            {\"w0\": 4843.0, \"bw\": 120, \"Q\": None},\n",
    "            {\"w0\": 4849.0, \"bw\": 20, \"Q\": None},\n",
    "            {\"w0\": 4843.0 * 2, \"bw\": 60, \"Q\": None},\n",
    "            {\"w0\": 4843.0 * 3, \"bw\": 100, \"Q\": None},\n",
    "        ]\n",
    "miniscope_filter(dat_filter, top_limit=0)  "
   ]
  },
  {
   "cell_type": "markdown",
   "id": "f842a535",
   "metadata": {},
   "source": [
    "Just like for spyking-circus, you need to have a `session_name.dat` and `session_name.params` file in the same folder before running.  \n",
    "  \n",
    "~~At this point, you want to have the `overwrite` flag set to `False`, unlike for normal running of spyking-circus.~~  \n",
    "NVM - seems to be lots of issues in spyking-circus with this."
   ]
  }
 ],
 "metadata": {
  "kernelspec": {
   "display_name": "Python 3 (ipykernel)",
   "language": "python",
   "name": "python3"
  },
  "language_info": {
   "codemirror_mode": {
    "name": "ipython",
    "version": 3
   },
   "file_extension": ".py",
   "mimetype": "text/x-python",
   "name": "python",
   "nbconvert_exporter": "python",
   "pygments_lexer": "ipython3",
   "version": "3.9.7"
  }
 },
 "nbformat": 4,
 "nbformat_minor": 5
}
