{
 "cells": [
  {
   "cell_type": "markdown",
   "id": "bab66054",
   "metadata": {},
   "source": [
    "First, import data to compare (neuron 20 vs 45 for 'RoyMaze1' session from Hiro dataset)."
   ]
  },
  {
   "cell_type": "code",
   "execution_count": 2,
   "id": "96ad18ee",
   "metadata": {},
   "outputs": [],
   "source": [
    "from scipy.io import loadmat\n",
    "\n",
    "filepath = '/data/Working/Other Peoples Data/HiroData/wake_new/wake-spikes.mat'\n",
    "session = 'RoyMaze1'\n",
    "\n",
    "\n",
    "mat_in = loadmat(filepath, squeeze_me=True, struct_as_record=False)"
   ]
  },
  {
   "cell_type": "markdown",
   "id": "8365fa77",
   "metadata": {},
   "source": [
    "Organize data"
   ]
  },
  {
   "cell_type": "code",
   "execution_count": 3,
   "id": "c8de96a6",
   "metadata": {},
   "outputs": [],
   "source": [
    "neurons = [19, 44]\n",
    "\n",
    "spikes_use = [mat_in['spikes'].RoyMaze1[neuron] for neuron in neurons]"
   ]
  },
  {
   "cell_type": "code",
   "execution_count": null,
   "id": "d9830933",
   "metadata": {},
   "outputs": [],
   "source": []
  }
 ],
 "metadata": {
  "kernelspec": {
   "display_name": "Python [conda env:NeuroPy] *",
   "language": "python",
   "name": "conda-env-NeuroPy-py"
  },
  "language_info": {
   "codemirror_mode": {
    "name": "ipython",
    "version": 3
   },
   "file_extension": ".py",
   "mimetype": "text/x-python",
   "name": "python",
   "nbconvert_exporter": "python",
   "pygments_lexer": "ipython3",
   "version": "3.9.2"
  }
 },
 "nbformat": 4,
 "nbformat_minor": 5
}
