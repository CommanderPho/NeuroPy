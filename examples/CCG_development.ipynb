{
 "cells": [
  {
   "cell_type": "markdown",
   "metadata": {},
   "source": [
    "# CCG Development"
   ]
  },
  {
   "cell_type": "markdown",
   "metadata": {},
   "source": [
    "Notebook to compare CCG times to run in python vs. CCGheart.c mex MATLAB file from buzcode repo and develop a faster CCG in python if the python version runs much slower"
   ]
  },
  {
   "cell_type": "markdown",
   "metadata": {},
   "source": [
    "First, import data to compare (neuron 20 vs 45 for 'RoyMaze1' session from Hiro dataset)."
   ]
  },
  {
   "cell_type": "code",
   "execution_count": 31,
   "metadata": {},
   "outputs": [],
   "source": [
    "from scipy.io import loadmat\n",
    "\n",
    "filepath = '/data/Working/Other Peoples Data/HiroData/wake_new/wake-spikes.mat'\n",
    "session = 'RoyMaze1'\n",
    "\n",
    "mat_in = loadmat(filepath, squeeze_me=True, struct_as_record=False)"
   ]
  },
  {
   "cell_type": "markdown",
   "metadata": {},
   "source": [
    "Organize data"
   ]
  },
  {
   "cell_type": "code",
   "execution_count": 53,
   "metadata": {},
   "outputs": [],
   "source": [
    "neurons = [19, 44]\n",
    "spikes_use = [mat_in['spikes'].RoyMaze1[neuron] for neuron in neurons]"
   ]
  },
  {
   "cell_type": "code",
   "execution_count": 54,
   "metadata": {},
   "outputs": [
    {
     "data": {
      "text/plain": [
       "(517090,)"
      ]
     },
     "execution_count": 54,
     "metadata": {},
     "output_type": "execute_result"
    }
   ],
   "source": [
    "spikes_use[0].time.shape"
   ]
  },
  {
   "cell_type": "markdown",
   "metadata": {},
   "source": [
    "Import CCG from matlab and organize data nicely"
   ]
  },
  {
   "cell_type": "code",
   "execution_count": 65,
   "metadata": {},
   "outputs": [],
   "source": [
    "import ccg\n",
    "import numpy as np\n",
    "\n",
    "time_to_sec = 1/(1000*1000)  # Hiro data times are in microseconds\n",
    "spikes_unsorted = np.concatenate([a.time for a in spikes_use])*time_to_sec  # assemble spikes\n",
    "clu_id = np.concatenate([[idc] * len(a.time) for idc, a in enumerate(spikes_use)])  # assemble cluster ids\n",
    "sort_ind = np.argsort(spikes_unsorted)\n",
    "spikes = spikes_unsorted[sort_ind]\n",
    "clu_id = clu_id[sort_ind]"
   ]
  },
  {
   "cell_type": "markdown",
   "metadata": {},
   "source": [
    "Now run CCG!"
   ]
  },
  {
   "cell_type": "code",
   "execution_count": 75,
   "metadata": {},
   "outputs": [],
   "source": [
    "window_size, bin_size = 0.007, 1/30000\n",
    "ccgs = ccg.correlograms(spikes, clu_id, window_size=window_size, bin_size=bin_size, sample_rate=30000)"
   ]
  },
  {
   "cell_type": "markdown",
   "metadata": {},
   "source": [
    "Now plot it!"
   ]
  },
  {
   "cell_type": "code",
   "execution_count": 85,
   "metadata": {
    "scrolled": true
   },
   "outputs": [
    {
     "data": {
      "image/png": "[encoded data removed]",
      "text/plain": [
       "<Figure size 432x288 with 1 Axes>"
      ]
     },
     "metadata": {
      "needs_background": "light"
     },
     "output_type": "display_data"
    }
   ],
   "source": [
    "import seaborn as sns\n",
    "# sns.barplot(y=ccgs[1,0,:])\n",
    "bins = np.linspace(-window_size/2, window_size/2, num=int(0.007/bin_size + 1))\n",
    "sns.barplot(x=bins, y=ccgs[1,0,:])\n",
    "sns.despine()"
   ]
  },
  {
   "cell_type": "markdown",
   "metadata": {},
   "source": [
    "Ok, that looks like it works (fix color issues later).  Now time the ccg run!"
   ]
  },
  {
   "cell_type": "code",
   "execution_count": 86,
   "metadata": {},
   "outputs": [
    {
     "name": "stdout",
     "output_type": "stream",
     "text": [
      "129 ms ± 497 µs per loop (mean ± std. dev. of 7 runs, 10 loops each)\n"
     ]
    }
   ],
   "source": [
    "%timeit ccg.correlograms(spikes, clu_id, window_size=window_size, bin_size=bin_size, sample_rate=30000)"
   ]
  },
  {
   "cell_type": "markdown",
   "metadata": {},
   "source": [
    "This is a bit slower than the CCGheart function in MATLAB, which appears to run at aroun 80ms per CCG. So I need to do some Cythoning below to touch things up!"
   ]
  },
  {
   "cell_type": "markdown",
   "metadata": {},
   "source": [
    "First, start by simply copying over the CCG function and compiling in Cython here..."
   ]
  },
  {
   "cell_type": "code",
   "execution_count": 88,
   "metadata": {},
   "outputs": [],
   "source": [
    "%load_ext Cython"
   ]
  },
  {
   "cell_type": "code",
   "execution_count": 93,
   "metadata": {},
   "outputs": [],
   "source": [
    "%%cython\n",
    "\n",
    "import numpy as np\n",
    "\n",
    "\n",
    "# ------------------------------------------------------------------------------\n",
    "# Cross-correlograms\n",
    "# ------------------------------------------------------------------------------\n",
    "_ACCEPTED_ARRAY_DTYPES = (\n",
    "    np.float,\n",
    "    np.float32,\n",
    "    np.float64,\n",
    "    np.int,\n",
    "    np.int8,\n",
    "    np.int16,\n",
    "    np.uint8,\n",
    "    np.uint16,\n",
    "    np.int32,\n",
    "    np.int64,\n",
    "    np.uint32,\n",
    "    np.uint64,\n",
    "    np.bool,\n",
    ")\n",
    "\n",
    "\n",
    "def _as_array(arr, dtype=None):\n",
    "    \"\"\"Convert an object to a numerical NumPy array.\n",
    "    Avoid a copy if possible.\n",
    "    \"\"\"\n",
    "    if arr is None:\n",
    "        return None\n",
    "    if isinstance(arr, np.ndarray) and dtype is None:\n",
    "        return arr\n",
    "    if isinstance(arr, (int, float)):\n",
    "        arr = [arr]\n",
    "    out = np.asarray(arr)\n",
    "    if dtype is not None:\n",
    "        if out.dtype != dtype:\n",
    "            out = out.astype(dtype)\n",
    "    if out.dtype not in _ACCEPTED_ARRAY_DTYPES:\n",
    "        raise ValueError(\n",
    "            \"'arr' seems to have an invalid dtype: \" \"{0:s}\".format(str(out.dtype))\n",
    "        )\n",
    "    return out\n",
    "\n",
    "\n",
    "def _index_of(arr, lookup):\n",
    "    \"\"\"Replace scalars in an array by their indices in a lookup table.\n",
    "    Implicitely assume that:\n",
    "    * All elements of arr and lookup are non-negative integers.\n",
    "    * All elements or arr belong to lookup.\n",
    "    This is not checked for performance reasons.\n",
    "    \"\"\"\n",
    "    # Equivalent of np.digitize(arr, lookup) - 1, but much faster.\n",
    "    # TODO: assertions to disable in production for performance reasons.\n",
    "    # TODO: np.searchsorted(lookup, arr) is faster on small arrays with large\n",
    "    # values\n",
    "    lookup = np.asarray(lookup, dtype=np.int32)\n",
    "    m = (lookup.max() if len(lookup) else 0) + 1\n",
    "    tmp = np.zeros(m + 1, dtype=np.int)\n",
    "    # Ensure that -1 values are kept.\n",
    "    tmp[-1] = -1\n",
    "    if len(lookup):\n",
    "        tmp[lookup] = np.arange(len(lookup))\n",
    "    return tmp[arr]\n",
    "\n",
    "\n",
    "def _unique(x):\n",
    "    \"\"\"Faster version of np.unique().\n",
    "    This version is restricted to 1D arrays of non-negative integers.\n",
    "    It is only faster if len(x) >> len(unique(x)).\n",
    "    \"\"\"\n",
    "    if x is None or len(x) == 0:\n",
    "        return np.array([], dtype=np.int64)\n",
    "    # WARNING: only keep positive values.\n",
    "    # cluster=-1 means \"unclustered\".\n",
    "    x = _as_array(x)\n",
    "    x = x[x >= 0]\n",
    "    bc = np.bincount(x)\n",
    "    return np.nonzero(bc)[0]\n",
    "\n",
    "\n",
    "def _increment(arr, indices):\n",
    "    \"\"\"Increment some indices in a 1D vector of non-negative integers.\n",
    "    Repeated indices are taken into account.\"\"\"\n",
    "    arr = _as_array(arr)\n",
    "    indices = _as_array(indices)\n",
    "    bbins = np.bincount(indices)\n",
    "    arr[: len(bbins)] += bbins\n",
    "    return arr\n",
    "\n",
    "\n",
    "def _diff_shifted(arr, steps=1):\n",
    "    arr = _as_array(arr)\n",
    "    return arr[steps:] - arr[: len(arr) - steps]\n",
    "\n",
    "\n",
    "def _create_correlograms_array(n_clusters, winsize_bins):\n",
    "    return np.zeros((n_clusters, n_clusters, winsize_bins // 2 + 1), dtype=np.int32)\n",
    "\n",
    "\n",
    "def _symmetrize_correlograms(correlograms):\n",
    "    \"\"\"Return the symmetrized version of the CCG arrays.\"\"\"\n",
    "\n",
    "    n_clusters, _, n_bins = correlograms.shape\n",
    "    assert n_clusters == _\n",
    "\n",
    "    # We symmetrize c[i, j, 0].\n",
    "    # This is necessary because the algorithm in correlograms()\n",
    "    # is sensitive to the order of identical spikes.\n",
    "    correlograms[..., 0] = np.maximum(correlograms[..., 0], correlograms[..., 0].T)\n",
    "\n",
    "    sym = correlograms[..., 1:][..., ::-1]\n",
    "    sym = np.transpose(sym, (1, 0, 2))\n",
    "\n",
    "    return np.dstack((sym, correlograms))\n",
    "\n",
    "\n",
    "def firing_rate(spike_clusters, cluster_ids=None, bin_size=None, duration=None):\n",
    "    \"\"\"Compute the average number of spikes per cluster per bin.\"\"\"\n",
    "\n",
    "    # Take the cluster order into account.\n",
    "    if cluster_ids is None:\n",
    "        cluster_ids = _unique(spike_clusters)\n",
    "    else:\n",
    "        cluster_ids = _as_array(cluster_ids)\n",
    "\n",
    "    # Like spike_clusters, but with 0..n_clusters-1 indices.\n",
    "    spike_clusters_i = _index_of(spike_clusters, cluster_ids)\n",
    "\n",
    "    assert bin_size > 0\n",
    "    bc = np.bincount(spike_clusters_i)\n",
    "    # Handle the case where the last cluster(s) are empty.\n",
    "    if len(bc) < len(cluster_ids):\n",
    "        n = len(cluster_ids) - len(bc)\n",
    "        bc = np.concatenate((bc, np.zeros(n, dtype=bc.dtype)))\n",
    "    assert bc.shape == (len(cluster_ids),)\n",
    "    return bc * np.c_[bc] * (bin_size / (duration or 1.0))\n",
    "\n",
    "\n",
    "def correlograms_py(\n",
    "    spike_times,\n",
    "    spike_clusters,\n",
    "    cluster_ids=None,\n",
    "    sample_rate=1.0,\n",
    "    bin_size=None,\n",
    "    window_size=None,\n",
    "    symmetrize=True,\n",
    "):\n",
    "    \"\"\"Compute all pairwise cross-correlograms among the clusters appearing\n",
    "    in `spike_clusters`.\n",
    "    Parameters\n",
    "    ----------\n",
    "    spike_times : array-like\n",
    "        Spike times in seconds.\n",
    "    spike_clusters : array-like\n",
    "        Spike-cluster mapping.\n",
    "    cluster_ids : array-like\n",
    "        The list of *all* unique clusters, in any order. That order will be used\n",
    "        in the output array.\n",
    "    bin_size : float\n",
    "        Size of the bin, in seconds.\n",
    "    window_size : float\n",
    "        Size of the window, in seconds.\n",
    "    sample_rate : float\n",
    "        Sampling rate.\n",
    "    symmetrize : boolean (True)\n",
    "        Whether the output matrix should be symmetrized or not.\n",
    "    Returns\n",
    "    -------\n",
    "    correlograms : array\n",
    "        A `(n_clusters, n_clusters, winsize_samples)` array with all pairwise CCGs.\n",
    "    \"\"\"\n",
    "    assert sample_rate > 0.0\n",
    "    assert np.all(np.diff(spike_times) >= 0), \"The spike times must be \" \"increasing.\"\n",
    "\n",
    "    # Get the spike samples.\n",
    "    spike_times = np.asarray(spike_times, dtype=np.float64)\n",
    "    spike_samples = (spike_times * sample_rate).astype(np.int64)\n",
    "\n",
    "    spike_clusters = _as_array(spike_clusters)\n",
    "\n",
    "    assert spike_samples.ndim == 1\n",
    "    assert spike_samples.shape == spike_clusters.shape\n",
    "\n",
    "    # Find `binsize`.\n",
    "    bin_size = np.clip(bin_size, 1e-5, 1e5)  # in seconds\n",
    "    binsize = int(sample_rate * bin_size)  # in samples\n",
    "    assert binsize >= 1\n",
    "\n",
    "    # Find `winsize_bins`.\n",
    "    window_size = np.clip(window_size, 1e-5, 1e5)  # in seconds\n",
    "    winsize_bins = 2 * int(0.5 * window_size / bin_size) + 1\n",
    "\n",
    "    assert winsize_bins >= 1\n",
    "    assert winsize_bins % 2 == 1\n",
    "\n",
    "    # Take the cluster order into account.\n",
    "    if cluster_ids is None:\n",
    "        clusters = _unique(spike_clusters)\n",
    "    else:\n",
    "        clusters = _as_array(cluster_ids)\n",
    "    n_clusters = len(clusters)\n",
    "\n",
    "    # Like spike_clusters, but with 0..n_clusters-1 indices.\n",
    "    spike_clusters_i = _index_of(spike_clusters, clusters)\n",
    "\n",
    "    # Shift between the two copies of the spike trains.\n",
    "    shift = 1\n",
    "\n",
    "    # At a given shift, the mask precises which spikes have matching spikes\n",
    "    # within the correlogram time window.\n",
    "    mask = np.ones_like(spike_samples, dtype=np.bool)\n",
    "\n",
    "    correlograms = _create_correlograms_array(n_clusters, winsize_bins)\n",
    "\n",
    "    # The loop continues as long as there is at least one spike with\n",
    "    # a matching spike.\n",
    "    while mask[:-shift].any():\n",
    "        # Number of time samples between spike i and spike i+shift.\n",
    "        spike_diff = _diff_shifted(spike_samples, shift)\n",
    "\n",
    "        # Binarize the delays between spike i and spike i+shift.\n",
    "        spike_diff_b = spike_diff // binsize\n",
    "\n",
    "        # Spikes with no matching spikes are masked.\n",
    "        mask[:-shift][spike_diff_b > (winsize_bins // 2)] = False\n",
    "\n",
    "        # Cache the masked spike delays.\n",
    "        m = mask[:-shift].copy()\n",
    "        d = spike_diff_b[m]\n",
    "\n",
    "        # # Update the masks given the clusters to update.\n",
    "        # m0 = np.in1d(spike_clusters[:-shift], clusters)\n",
    "        # m = m & m0\n",
    "        # d = spike_diff_b[m]\n",
    "        d = spike_diff_b[m]\n",
    "\n",
    "        # Find the indices in the raveled correlograms array that need\n",
    "        # to be incremented, taking into account the spike clusters.\n",
    "        indices = np.ravel_multi_index(\n",
    "            (spike_clusters_i[:-shift][m], spike_clusters_i[+shift:][m], d),\n",
    "            correlograms.shape,\n",
    "        )\n",
    "\n",
    "        # Increment the matching spikes in the correlograms array.\n",
    "        _increment(correlograms.ravel(), indices)\n",
    "\n",
    "        shift += 1\n",
    "\n",
    "    if symmetrize:\n",
    "        return _symmetrize_correlograms(correlograms)\n",
    "    else:\n",
    "        return correlograms"
   ]
  },
  {
   "cell_type": "markdown",
   "metadata": {},
   "source": [
    "Wow, that seemed to work. Now let's time it again!"
   ]
  },
  {
   "cell_type": "code",
   "execution_count": 94,
   "metadata": {},
   "outputs": [
    {
     "name": "stdout",
     "output_type": "stream",
     "text": [
      "132 ms ± 176 µs per loop (mean ± std. dev. of 7 runs, 10 loops each)\n"
     ]
    }
   ],
   "source": [
    "%timeit correlograms_py(spikes, clu_id, window_size=window_size, bin_size=bin_size, sample_rate=30000) "
   ]
  },
  {
   "cell_type": "markdown",
   "metadata": {},
   "source": [
    "Ok, same result as before. Need to get fancier. Next try saving this as it's own file and complining outside this notebook. Maybe that will do better?"
   ]
  },
  {
   "cell_type": "code",
   "execution_count": 96,
   "metadata": {},
   "outputs": [
    {
     "name": "stdout",
     "output_type": "stream",
     "text": [
      "133 ms ± 372 µs per loop (mean ± std. dev. of 7 runs, 10 loops each)\n"
     ]
    }
   ],
   "source": [
    "import ccg_py  # this is the name of the file I compiled using `python setup.py build_ext --inplace`\n",
    "\n",
    "%timeit ccg_py.correlograms(spikes, clu_id, window_size=window_size, bin_size=bin_size, sample_rate=30000) "
   ]
  },
  {
   "cell_type": "markdown",
   "metadata": {},
   "source": [
    "If not, move onto some of the first steps in the \"Cython for NumPy users\" tutorial: setting types and indexing with memoryviews."
   ]
  },
  {
   "cell_type": "markdown",
   "metadata": {},
   "source": [
    "Start with setting types - do this on a function by function basis to debug and then combine at the end!  \n",
    "  \n",
    "IMPORTANT NOTE: Have to remove `_` before each function to test as that makes it a protected function that is inaccessible outside of the class. Remember to add those back in in the end!"
   ]
  },
  {
   "cell_type": "markdown",
   "metadata": {},
   "source": [
    "Here is the `_as_array` function"
   ]
  },
  {
   "cell_type": "code",
   "execution_count": 186,
   "metadata": {},
   "outputs": [],
   "source": [
    "%%cython\n",
    "# cython: infer_types=True\n",
    "cimport numpy as npc\n",
    "import numpy as np\n",
    "cimport cython\n",
    "\n",
    "\n",
    "# ------------------------------------------------------------------------------\n",
    "# Cross-correlograms\n",
    "# ------------------------------------------------------------------------------\n",
    "_ACCEPTED_ARRAY_DTYPES = (\n",
    "    np.float,\n",
    "    np.float32,\n",
    "    np.float64,\n",
    "    np.int,\n",
    "    np.int8,\n",
    "    np.int16,\n",
    "    np.uint8,\n",
    "    np.uint16,\n",
    "    np.int32,\n",
    "    np.int64,\n",
    "    np.uint32,\n",
    "    np.uint64,\n",
    "    np.bool,\n",
    ")\n",
    "\n",
    "ctypedef fused my_type:\n",
    "    float\n",
    "    int\n",
    "    unsigned int\n",
    "    bint\n",
    "    list\n",
    "    npc.ndarray\n",
    "\n",
    "# NRK potential slowdonwn below with dtype unset.\n",
    "def as_array_cy(my_type arr, dtype=None):\n",
    "    \"\"\"Convert an object to a numerical NumPy array.\n",
    "    Avoid a copy if possible.\n",
    "    \"\"\"\n",
    "    cdef list arr_temp = []\n",
    "    if arr is None:\n",
    "        return None\n",
    "    if isinstance(arr, np.ndarray) and dtype is None:\n",
    "        return arr\n",
    "    if isinstance(arr, (int, float)):\n",
    "        arr_temp = [arr]\n",
    "    out = np.asarray(arr_temp)\n",
    "    if dtype is not None:\n",
    "        if out.dtype != dtype:\n",
    "            out = out.astype(dtype)\n",
    "    if out.dtype not in _ACCEPTED_ARRAY_DTYPES:\n",
    "        raise ValueError(\n",
    "            \"'arr' seems to have an invalid dtype: \" \"{0:s}\".format(str(out.dtype))\n",
    "        )\n",
    "    return out"
   ]
  },
  {
   "cell_type": "code",
   "execution_count": 119,
   "metadata": {},
   "outputs": [
    {
     "data": {
      "text/plain": [
       "array([1])"
      ]
     },
     "execution_count": 119,
     "metadata": {},
     "output_type": "execute_result"
    }
   ],
   "source": [
    "as_array_cy(1)"
   ]
  },
  {
   "cell_type": "markdown",
   "metadata": {},
   "source": [
    "Now compile pure python version and compare to make sure I'm not making things longer by accident"
   ]
  },
  {
   "cell_type": "code",
   "execution_count": 212,
   "metadata": {},
   "outputs": [],
   "source": [
    "import numpy as np\n",
    "\n",
    "\n",
    "# ------------------------------------------------------------------------------\n",
    "# Cross-correlograms\n",
    "# ------------------------------------------------------------------------------\n",
    "_ACCEPTED_ARRAY_DTYPES = (\n",
    "    np.float,\n",
    "    np.float32,\n",
    "    np.float64,\n",
    "    np.int,\n",
    "    np.int8,\n",
    "    np.int16,\n",
    "    np.uint8,\n",
    "    np.uint16,\n",
    "    np.int32,\n",
    "    np.int64,\n",
    "    np.uint32,\n",
    "    np.uint64,\n",
    "    np.bool,\n",
    ")\n",
    "\n",
    "def as_array_py(arr, dtype=None):\n",
    "    \"\"\"Convert an object to a numerical NumPy array.\n",
    "    Avoid a copy if possible.\n",
    "    \"\"\"\n",
    "    if arr is None:\n",
    "        return None\n",
    "    if isinstance(arr, np.ndarray) and dtype is None:\n",
    "        return arr\n",
    "    if isinstance(arr, (int, float)):\n",
    "        arr = [arr]\n",
    "    out = np.asarray(arr)\n",
    "    if dtype is not None:\n",
    "        if out.dtype != dtype:\n",
    "            out = out.astype(dtype)\n",
    "    if out.dtype not in _ACCEPTED_ARRAY_DTYPES:\n",
    "        raise ValueError(\n",
    "            \"'arr' seems to have an invalid dtype: \" \"{0:s}\".format(str(out.dtype))\n",
    "        )\n",
    "    return out"
   ]
  },
  {
   "cell_type": "code",
   "execution_count": 214,
   "metadata": {},
   "outputs": [
    {
     "name": "stdout",
     "output_type": "stream",
     "text": [
      "1.7 µs ± 6.41 ns per loop (mean ± std. dev. of 7 runs, 1000000 loops each)\n"
     ]
    }
   ],
   "source": [
    "%timeit as_array_py([1,2,3,4,5])"
   ]
  },
  {
   "cell_type": "code",
   "execution_count": 215,
   "metadata": {},
   "outputs": [
    {
     "name": "stdout",
     "output_type": "stream",
     "text": [
      "2.11 µs ± 7.62 ns per loop (mean ± std. dev. of 7 runs, 100000 loops each)\n"
     ]
    }
   ],
   "source": [
    "%timeit as_array_cy([1,2,3,4,5])"
   ]
  },
  {
   "cell_type": "markdown",
   "metadata": {},
   "source": [
    "ok, so it doesn't really speed it up but it's so fast anyway it doesn't matter!"
   ]
  },
  {
   "cell_type": "markdown",
   "metadata": {},
   "source": [
    "That worked - onto `_index_of`"
   ]
  },
  {
   "cell_type": "code",
   "execution_count": 149,
   "metadata": {},
   "outputs": [],
   "source": [
    "%%cython\n",
    "# cython: infer_types=True\n",
    "import numpy as np\n",
    "cimport numpy as npc\n",
    "cimport cython\n",
    "\n",
    "ctypedef fused my_type:\n",
    "    float\n",
    "    int\n",
    "    unsigned int\n",
    "    bint\n",
    "    list\n",
    "    npc.ndarray\n",
    "\n",
    "def index_of(my_type arr, my_type lookup):\n",
    "    \"\"\"Replace scalars in an array by their indices in a lookup table.\n",
    "    Implicitely assume that:\n",
    "    * All elements of arr and lookup are non-negative integers.\n",
    "    * All elements or arr belong to lookup.\n",
    "    This is not checked for performance reasons.\n",
    "    \"\"\"\n",
    "    # Equivalent of np.digitize(arr, lookup) - 1, but much faster.\n",
    "    # TODO: assertions to disable in production for performance reasons.\n",
    "    # TODO: np.searchsorted(lookup, arr) is faster on small arrays with large\n",
    "    # values\n",
    "    cdef npc.ndarray tmp\n",
    "    cdef int m\n",
    "    lookup_array = np.asarray(lookup, dtype=np.int32)\n",
    "    m = (lookup_array.max() if len(lookup_array) else 0) + 1\n",
    "    tmp = np.zeros(m + 1, dtype=np.int)\n",
    "    # Ensure that -1 values are kept.\n",
    "    tmp[-1] = -1\n",
    "    if len(lookup):\n",
    "        tmp[lookup] = np.arange(len(lookup))\n",
    "    return tmp[arr]"
   ]
  },
  {
   "cell_type": "code",
   "execution_count": 150,
   "metadata": {
    "scrolled": true
   },
   "outputs": [
    {
     "data": {
      "text/plain": [
       "array([1])"
      ]
     },
     "execution_count": 150,
     "metadata": {},
     "output_type": "execute_result"
    }
   ],
   "source": [
    "index_of([2], [1, 2, 3])"
   ]
  },
  {
   "cell_type": "markdown",
   "metadata": {},
   "source": [
    "Now compare to pure python"
   ]
  },
  {
   "cell_type": "code",
   "execution_count": 216,
   "metadata": {},
   "outputs": [],
   "source": [
    "import numpy as np\n",
    "\n",
    "def index_of_py(arr, lookup):\n",
    "    \"\"\"Replace scalars in an array by their indices in a lookup table.\n",
    "    Implicitely assume that:\n",
    "    * All elements of arr and lookup are non-negative integers.\n",
    "    * All elements or arr belong to lookup.\n",
    "    This is not checked for performance reasons.\n",
    "    \"\"\"\n",
    "    # Equivalent of np.digitize(arr, lookup) - 1, but much faster.\n",
    "    # TODO: assertions to disable in production for performance reasons.\n",
    "    # TODO: np.searchsorted(lookup, arr) is faster on small arrays with large\n",
    "    # values\n",
    "    lookup = np.asarray(lookup, dtype=np.int32)\n",
    "    m = (lookup.max() if len(lookup) else 0) + 1\n",
    "    tmp = np.zeros(m + 1, dtype=np.int)\n",
    "    # Ensure that -1 values are kept.\n",
    "    tmp[-1] = -1\n",
    "    if len(lookup):\n",
    "        tmp[lookup] = np.arange(len(lookup))\n",
    "    return tmp[arr]"
   ]
  },
  {
   "cell_type": "code",
   "execution_count": 218,
   "metadata": {},
   "outputs": [
    {
     "name": "stdout",
     "output_type": "stream",
     "text": [
      "9.66 µs ± 101 ns per loop (mean ± std. dev. of 7 runs, 100000 loops each)\n"
     ]
    }
   ],
   "source": [
    "%timeit index_of_py([2], [1, 2, 3])"
   ]
  },
  {
   "cell_type": "code",
   "execution_count": 217,
   "metadata": {},
   "outputs": [
    {
     "name": "stdout",
     "output_type": "stream",
     "text": [
      "11 µs ± 124 ns per loop (mean ± std. dev. of 7 runs, 100000 loops each)\n"
     ]
    }
   ],
   "source": [
    "%timeit index_of([2], [1, 2, 3])"
   ]
  },
  {
   "cell_type": "markdown",
   "metadata": {},
   "source": [
    "Ok, same thing for `index_of` - a bit slower with cython but again super fast so it probably doesn't matter."
   ]
  },
  {
   "cell_type": "markdown",
   "metadata": {},
   "source": [
    "Onto `_unique`"
   ]
  },
  {
   "cell_type": "code",
   "execution_count": 207,
   "metadata": {},
   "outputs": [],
   "source": [
    "%%cython\n",
    "# cython: infer_types=True\n",
    "import numpy as np\n",
    "cimport numpy as npc\n",
    "cimport cython\n",
    "\n",
    "# _ACCEPTED_ARRAY_DTYPES = (\n",
    "#     np.float,\n",
    "#     np.float32,\n",
    "#     np.float64,\n",
    "#     np.int,\n",
    "#     np.int8,\n",
    "#     np.int16,\n",
    "#     np.uint8,\n",
    "#     np.uint16,\n",
    "#     np.int32,\n",
    "#     np.int64,\n",
    "#     np.uint32,\n",
    "#     np.uint64,\n",
    "#     np.bool,\n",
    "# )\n",
    "\n",
    "ctypedef fused my_type:\n",
    "    float\n",
    "    int\n",
    "    unsigned int\n",
    "    bint\n",
    "    list\n",
    "    npc.ndarray\n",
    "    \n",
    "# NRK potential slowdown below with dtype unset.\n",
    "def _as_array(my_type arr):  #, dtype=None):\n",
    "    \"\"\"Convert an object to a numerical NumPy array.\n",
    "    Avoid a copy if possible.\n",
    "    \"\"\"\n",
    "    cdef list arr_temp = []\n",
    "#     if arr is None:\n",
    "#         return None\n",
    "    if isinstance(arr, np.ndarray): # and dtype is None:\n",
    "        return arr\n",
    "    if isinstance(arr, (int, float)):\n",
    "        \n",
    "        arr_temp = [arr]\n",
    "    out = np.asarray(arr_temp)\n",
    "#     if dtype is not None:\n",
    "#         if out.dtype != dtype:\n",
    "#             out = out.astype(dtype)\n",
    "#     if out.dtype not in _ACCEPTED_ARRAY_DTYPES:\n",
    "#         raise ValueError(\n",
    "#             \"'arr' seems to have an invalid dtype: \" \"{0:s}\".format(str(out.dtype))\n",
    "#         )\n",
    "    return out\n",
    "\n",
    "def unique(my_type x):\n",
    "    \"\"\"Faster version of np.unique().\n",
    "    This version is restricted to 1D arrays of non-negative integers.\n",
    "    It is only faster if len(x) >> len(unique(x)).\n",
    "    \"\"\"\n",
    "    cdef npc.ndarray bc\n",
    "    if x is None or len(x) == 0:\n",
    "        return np.array([], dtype=np.int64)\n",
    "    # WARNING: only keep positive values.\n",
    "    # cluster=-1 means \"unclustered\".\n",
    "    x_array = _as_array(x).astype('int')  # Adjust this back to _as_array when combining at end!\n",
    "    x_array = x_array[x_array >= 0]\n",
    "    bc = np.bincount(x_array)\n",
    "    return np.nonzero(bc)[0]"
   ]
  },
  {
   "cell_type": "code",
   "execution_count": 208,
   "metadata": {},
   "outputs": [
    {
     "data": {
      "text/plain": [
       "array([1, 2, 4, 5, 7, 9])"
      ]
     },
     "execution_count": 208,
     "metadata": {},
     "output_type": "execute_result"
    }
   ],
   "source": [
    "unique(np.asarray([1, 2, 2, 5, 4, 7, 9]))"
   ]
  },
  {
   "cell_type": "markdown",
   "metadata": {},
   "source": [
    "Time the above versus np.unique out of interest!"
   ]
  },
  {
   "cell_type": "markdown",
   "metadata": {},
   "source": [
    "Now compare to pure python!"
   ]
  },
  {
   "cell_type": "code",
   "execution_count": 219,
   "metadata": {},
   "outputs": [],
   "source": [
    "import numpy as np\n",
    "\n",
    "\n",
    "# ------------------------------------------------------------------------------\n",
    "# Cross-correlograms\n",
    "# ------------------------------------------------------------------------------\n",
    "_ACCEPTED_ARRAY_DTYPES = (\n",
    "    np.float,\n",
    "    np.float32,\n",
    "    np.float64,\n",
    "    np.int,\n",
    "    np.int8,\n",
    "    np.int16,\n",
    "    np.uint8,\n",
    "    np.uint16,\n",
    "    np.int32,\n",
    "    np.int64,\n",
    "    np.uint32,\n",
    "    np.uint64,\n",
    "    np.bool,\n",
    ")\n",
    "\n",
    "def as_array_py(arr, dtype=None):\n",
    "    \"\"\"Convert an object to a numerical NumPy array.\n",
    "    Avoid a copy if possible.\n",
    "    \"\"\"\n",
    "    if arr is None:\n",
    "        return None\n",
    "    if isinstance(arr, np.ndarray) and dtype is None:\n",
    "        return arr\n",
    "    if isinstance(arr, (int, float)):\n",
    "        arr = [arr]\n",
    "    out = np.asarray(arr)\n",
    "    if dtype is not None:\n",
    "        if out.dtype != dtype:\n",
    "            out = out.astype(dtype)\n",
    "    if out.dtype not in _ACCEPTED_ARRAY_DTYPES:\n",
    "        raise ValueError(\n",
    "            \"'arr' seems to have an invalid dtype: \" \"{0:s}\".format(str(out.dtype))\n",
    "        )\n",
    "    return out\n",
    "\n",
    "def unique_py(x):\n",
    "    \"\"\"Faster version of np.unique().\n",
    "    This version is restricted to 1D arrays of non-negative integers.\n",
    "    It is only faster if len(x) >> len(unique(x)).\n",
    "    \"\"\"\n",
    "    if x is None or len(x) == 0:\n",
    "        return np.array([], dtype=np.int64)\n",
    "    # WARNING: only keep positive values.\n",
    "    # cluster=-1 means \"unclustered\".\n",
    "    x = as_array_py(x)\n",
    "    x = x[x >= 0]\n",
    "    bc = np.bincount(x)\n",
    "    return np.nonzero(bc)[0]"
   ]
  },
  {
   "cell_type": "code",
   "execution_count": 210,
   "metadata": {},
   "outputs": [
    {
     "name": "stdout",
     "output_type": "stream",
     "text": [
      "2.65 ms ± 6.77 µs per loop (mean ± std. dev. of 7 runs, 100 loops each)\n"
     ]
    }
   ],
   "source": [
    "rand_int = np.random.randint(0, 50, size=100000)\n",
    "\n",
    "%timeit np.unique(rand_int)"
   ]
  },
  {
   "cell_type": "code",
   "execution_count": 211,
   "metadata": {},
   "outputs": [
    {
     "name": "stdout",
     "output_type": "stream",
     "text": [
      "399 µs ± 325 ns per loop (mean ± std. dev. of 7 runs, 1000 loops each)\n"
     ]
    }
   ],
   "source": [
    "%timeit unique(rand_int)"
   ]
  },
  {
   "cell_type": "markdown",
   "metadata": {},
   "source": [
    "Ok, much faster than pure numpy (6x). Now compare to python implementation."
   ]
  },
  {
   "cell_type": "code",
   "execution_count": 220,
   "metadata": {},
   "outputs": [
    {
     "name": "stdout",
     "output_type": "stream",
     "text": [
      "244 µs ± 189 ns per loop (mean ± std. dev. of 7 runs, 1000 loops each)\n"
     ]
    }
   ],
   "source": [
    "%timeit unique_py(rand_int)"
   ]
  },
  {
   "cell_type": "markdown",
   "metadata": {},
   "source": [
    "Gah - somehow I'm slowing everything down with cython - maybe when we get to the final version it will be faster? Or maybe try the above with memoryviews?"
   ]
  },
  {
   "cell_type": "markdown",
   "metadata": {},
   "source": [
    "Ok, try to do `_unique` with memoryviews..."
   ]
  },
  {
   "cell_type": "code",
   "execution_count": 248,
   "metadata": {},
   "outputs": [],
   "source": [
    "%%cython\n",
    "# cython: infer_types=True\n",
    "import numpy as np\n",
    "cimport numpy as npc\n",
    "cimport cython\n",
    "\n",
    "\n",
    "# _ACCEPTED_ARRAY_DTYPES = (\n",
    "#     np.float,\n",
    "#     np.float32,\n",
    "#     np.float64,\n",
    "#     np.int,\n",
    "#     np.int8,\n",
    "#     np.int16,\n",
    "#     np.uint8,\n",
    "#     np.uint16,\n",
    "#     np.int32,\n",
    "#     np.int64,\n",
    "#     np.uint32,\n",
    "#     np.uint64,\n",
    "#     np.bool,\n",
    "# )\n",
    "\n",
    "ctypedef fused my_type:\n",
    "    float\n",
    "    int\n",
    "    unsigned int\n",
    "    bint\n",
    "    list\n",
    "    npc.ndarray\n",
    "    \n",
    "# NRK potential slowdown below with dtype unset.\n",
    "@cython.boundscheck(False)  # Deactivate bounds checking\n",
    "@cython.wraparound(False)  # Deactivate negative indexing\n",
    "def _as_array_cym(my_type [:] arr):  #, dtype=None):\n",
    "    \"\"\"Convert an object to a numerical NumPy array.\n",
    "    Avoid a copy if possible.\n",
    "    \"\"\"\n",
    "    cdef list arr_temp = []\n",
    "#     if arr is None:\n",
    "#         return None\n",
    "    if isinstance(arr, np.ndarray): # and dtype is None:\n",
    "        return arr\n",
    "    if isinstance(arr, (int, float)):\n",
    "        \n",
    "        arr_temp = [arr]\n",
    "    out = np.asarray(arr_temp)\n",
    "#     if dtype is not None:\n",
    "#         if out.dtype != dtype:\n",
    "#             out = out.astype(dtype)\n",
    "#     if out.dtype not in _ACCEPTED_ARRAY_DTYPES:\n",
    "#         raise ValueError(\n",
    "#             \"'arr' seems to have an invalid dtype: \" \"{0:s}\".format(str(out.dtype))\n",
    "#         )\n",
    "    return out\n",
    "\n",
    "@cython.boundscheck(False)  # Deactivate bounds checking\n",
    "@cython.wraparound(False)  # Deactivate negative indexing\n",
    "def unique_cym(my_type [::1] x):\n",
    "    \"\"\"Faster version of np.unique().\n",
    "    This version is restricted to 1D arrays of non-negative integers.\n",
    "    It is only faster if len(x) >> len(unique(x)).\n",
    "    \"\"\"\n",
    "    cdef npc.ndarray [:] bc\n",
    "    if x is None or len(x) == 0:\n",
    "        return np.array([], dtype=np.int64)\n",
    "    # WARNING: only keep positive values.\n",
    "    # cluster=-1 means \"unclustered\".\n",
    "    x_array = _as_array_cym(x).astype('int')  # Adjust this back to _as_array when combining at end!\n",
    "    x_array = x_array[x_array >= 0]\n",
    "    bc = np.bincount(x_array)\n",
    "    return np.nonzero(bc)[0]"
   ]
  },
  {
   "cell_type": "code",
   "execution_count": 249,
   "metadata": {},
   "outputs": [
    {
     "name": "stdout",
     "output_type": "stream",
     "text": [
      "412 µs ± 1.67 µs per loop (mean ± std. dev. of 7 runs, 1000 loops each)\n"
     ]
    }
   ],
   "source": [
    "%timeit unique_cym(rand_int)"
   ]
  },
  {
   "cell_type": "markdown",
   "metadata": {},
   "source": [
    "Hmm, somehow adding in all the speed-up techniques from Cython actually slow this down a bunch!!! But again, it is still 6x faster than regular numpy..."
   ]
  },
  {
   "cell_type": "code",
   "execution_count": null,
   "metadata": {},
   "outputs": [],
   "source": [
    "\"\"\"Cross-correlograms.\"\"\"\n",
    "\n",
    "# ------------------------------------------------------------------------------\n",
    "# Imports\n",
    "# ------------------------------------------------------------------------------\n",
    "\n",
    "# cython: infer_types=True\n",
    "import numpy as np\n",
    "cimport numpy as npc\n",
    "cimport cython\n",
    "\n",
    "\n",
    "# ------------------------------------------------------------------------------\n",
    "# Cross-correlograms\n",
    "# ------------------------------------------------------------------------------\n",
    "_ACCEPTED_ARRAY_DTYPES = (\n",
    "    np.float,\n",
    "    np.float32,\n",
    "    np.float64,\n",
    "    np.int,\n",
    "    np.int8,\n",
    "    np.int16,\n",
    "    np.uint8,\n",
    "    np.uint16,\n",
    "    np.int32,\n",
    "    np.int64,\n",
    "    np.uint32,\n",
    "    np.uint64,\n",
    "    np.bool,\n",
    ")\n",
    "\n",
    "ctypedef fused my_type:\n",
    "    float\n",
    "    int\n",
    "    unsigned int\n",
    "    bint\n",
    "    list\n",
    "    npc.ndarray\n",
    "\n",
    "def _as_array(my_type arr, dtype=None):\n",
    "    \"\"\"Convert an object to a numerical NumPy array.\n",
    "    Avoid a copy if possible.\n",
    "    \"\"\"\n",
    "    cdef list arr_temp = []\n",
    "    if arr is None:\n",
    "        return None\n",
    "    if isinstance(arr, np.ndarray) and dtype is None:\n",
    "        return arr\n",
    "    if isinstance(arr, (int, float)):\n",
    "        arr_temp = [arr]\n",
    "    out = np.asarray(arr_temp)\n",
    "    if dtype is not None:\n",
    "        if out.dtype != dtype:\n",
    "            out = out.astype(dtype)\n",
    "    if out.dtype not in _ACCEPTED_ARRAY_DTYPES:\n",
    "        raise ValueError(\n",
    "            \"'arr' seems to have an invalid dtype: \" \"{0:s}\".format(str(out.dtype))\n",
    "        )\n",
    "    return out\n",
    "\n",
    "\n",
    "def _index_of(my_type arr, my_type lookup):\n",
    "    \"\"\"Replace scalars in an array by their indices in a lookup table.\n",
    "    Implicitely assume that:\n",
    "    * All elements of arr and lookup are non-negative integers.\n",
    "    * All elements or arr belong to lookup.\n",
    "    This is not checked for performance reasons.\n",
    "    \"\"\"\n",
    "    # Equivalent of np.digitize(arr, lookup) - 1, but much faster.\n",
    "    # TODO: assertions to disable in production for performance reasons.\n",
    "    # TODO: np.searchsorted(lookup, arr) is faster on small arrays with large\n",
    "    # values\n",
    "    cdef npc.ndarray tmp\n",
    "    cdef int m\n",
    "    lookup_array = np.asarray(lookup, dtype=np.int32)\n",
    "    m = (lookup_array.max() if len(lookup_array) else 0) + 1\n",
    "    tmp = np.zeros(m + 1, dtype=np.int)\n",
    "    # Ensure that -1 values are kept.\n",
    "    tmp[-1] = -1\n",
    "    if len(lookup):\n",
    "        tmp[lookup] = np.arange(len(lookup))\n",
    "    return tmp[arr]\n",
    "\n",
    "\n",
    "def _unique(my_type x):\n",
    "    \"\"\"Faster version of np.unique().\n",
    "    This version is restricted to 1D arrays of non-negative integers.\n",
    "    It is only faster if len(x) >> len(unique(x)).\n",
    "    \"\"\"\n",
    "    cdef npc.ndarray bc\n",
    "    if x is None or len(x) == 0:\n",
    "        return np.array([], dtype=np.int64)\n",
    "    # WARNING: only keep positive values.\n",
    "    # cluster=-1 means \"unclustered\".\n",
    "    x_array = _as_array(x).astype('int')  # Adjust this back to _as_array when combining at end!\n",
    "    x_array = x_array[x_array >= 0]\n",
    "    bc = np.bincount(x_array)\n",
    "    return np.nonzero(bc)[0]\n",
    "\n",
    "\n",
    "def _increment(my_type arr, my_type indices):\n",
    "    \"\"\"Increment some indices in a 1D vector of non-negative integers.\n",
    "    Repeated indices are taken into account.\"\"\"\n",
    "    arr_array = _as_array(arr)\n",
    "    indices_array = _as_array(indices)\n",
    "    bbins = np.bincount(indices_array)\n",
    "    arr_array[: len(bbins)] += bbins\n",
    "    return arr_array\n",
    "\n",
    "\n",
    "def _diff_shifted(my_type arr, int steps=1):\n",
    "    arr_array = _as_array(arr)\n",
    "    return arr_array[steps:] - arr_array[: len(arr) - steps]\n",
    "\n",
    "\n",
    "def _create_correlograms_array(int n_clusters, my_type winsize_bins):\n",
    "    return np.zeros((n_clusters, n_clusters, winsize_bins // 2 + 1), dtype=np.int32)\n",
    "\n",
    "\n",
    "def _symmetrize_correlograms(my_type correlograms):\n",
    "    \"\"\"Return the symmetrized version of the CCG arrays.\"\"\"\n",
    "\n",
    "    n_clusters, _, n_bins = correlograms.shape\n",
    "    assert n_clusters == _\n",
    "\n",
    "    # We symmetrize c[i, j, 0].\n",
    "    # This is necessary because the algorithm in correlograms()\n",
    "    # is sensitive to the order of identical spikes.\n",
    "    correlograms[..., 0] = np.maximum(correlograms[..., 0], correlograms[..., 0].T)\n",
    "\n",
    "    sym = correlograms[..., 1:][..., ::-1]\n",
    "    sym = np.transpose(sym, (1, 0, 2))\n",
    "\n",
    "    return np.dstack((sym, correlograms))\n",
    "\n",
    "\n",
    "def firing_rate(spike_clusters, cluster_ids=None, bin_size=None, duration=None):\n",
    "    \"\"\"Compute the average number of spikes per cluster per bin.\"\"\"\n",
    "\n",
    "    # Take the cluster order into account.\n",
    "    if cluster_ids is None:\n",
    "        cluster_ids = _unique(spike_clusters)\n",
    "    else:\n",
    "        cluster_ids = _as_array(cluster_ids)\n",
    "\n",
    "    # Like spike_clusters, but with 0..n_clusters-1 indices.\n",
    "    spike_clusters_i = _index_of(spike_clusters, cluster_ids)\n",
    "\n",
    "    assert bin_size > 0\n",
    "    bc = np.bincount(spike_clusters_i)\n",
    "    # Handle the case where the last cluster(s) are empty.\n",
    "    if len(bc) < len(cluster_ids):\n",
    "        n = len(cluster_ids) - len(bc)\n",
    "        bc = np.concatenate((bc, np.zeros(n, dtype=bc.dtype)))\n",
    "    assert bc.shape == (len(cluster_ids),)\n",
    "    return bc * np.c_[bc] * (bin_size / (duration or 1.0))\n",
    "\n",
    "\n",
    "def correlograms(\n",
    "    my_type spike_times,\n",
    "    my_type spike_clusters,\n",
    "    cluster_ids=None,\n",
    "    my_type sample_rate=30000,\n",
    "    bin_size=None,\n",
    "    window_size=None,\n",
    "    bint symmetrize=True,\n",
    "):\n",
    "    \"\"\"Compute all pairwise cross-correlograms among the clusters appearing\n",
    "    in `spike_clusters`.\n",
    "    Parameters\n",
    "    ----------\n",
    "    spike_times : array-like\n",
    "        Spike times in seconds.\n",
    "    spike_clusters : array-like\n",
    "        Spike-cluster mapping.\n",
    "    cluster_ids : array-like\n",
    "        The list of *all* unique clusters, in any order. That order will be used\n",
    "        in the output array.\n",
    "    bin_size : float\n",
    "        Size of the bin, in seconds.\n",
    "    window_size : float\n",
    "        Size of the window, in seconds.\n",
    "    sample_rate : float\n",
    "        Sampling rate.\n",
    "    symmetrize : boolean (True)\n",
    "        Whether the output matrix should be symmetrized or not.\n",
    "    Returns\n",
    "    -------\n",
    "    correlograms : array\n",
    "        A `(n_clusters, n_clusters, winsize_samples)` array with all pairwise CCGs.\n",
    "    \"\"\"\n",
    "    assert sample_rate > 0.0\n",
    "    assert np.all(np.diff(spike_times) >= 0), \"The spike times must be \" \"increasing.\"\n",
    "\n",
    "    # Get the spike samples.\n",
    "    spike_times = np.asarray(spike_times, dtype=np.float64)\n",
    "    spike_samples = (spike_times * sample_rate).astype(np.int64)\n",
    "\n",
    "    spike_clusters_array = _as_array(spike_clusters)\n",
    "\n",
    "    assert spike_samples.ndim == 1\n",
    "    assert spike_samples.shape == spike_clusters_array.shape\n",
    "\n",
    "    # Find `binsize`.\n",
    "    bin_size2 = np.clip(bin_size, 1e-5, 1e5)  # in seconds\n",
    "    binsize = int(sample_rate * bin_size2)  # in samples\n",
    "    assert binsize >= 1\n",
    "\n",
    "    # Find `winsize_bins`.\n",
    "    window_size2 = np.clip(window_size, 1e-5, 1e5)  # in seconds\n",
    "    winsize_bins = 2 * int(0.5 * window_size2 / bin_size) + 1\n",
    "\n",
    "    assert winsize_bins >= 1\n",
    "    assert winsize_bins % 2 == 1\n",
    "\n",
    "    # Take the cluster order into account.\n",
    "    if cluster_ids is None:\n",
    "        clusters_use = _unique(spike_clusters_array)\n",
    "    else:\n",
    "        clusters_use = _as_array(cluster_ids)\n",
    "    n_clusters = len(clusters_use)\n",
    "\n",
    "    # Like spike_clusters, but with 0..n_clusters-1 indices.\n",
    "    spike_clusters_i = _index_of(spike_clusters_array, clusters_use)\n",
    "\n",
    "    # Shift between the two copies of the spike trains.\n",
    "    cdef int shift = 1\n",
    "\n",
    "    # At a given shift, the mask precises which spikes have matching spikes\n",
    "    # within the correlogram time window.\n",
    "    mask = np.ones_like(spike_samples, dtype=np.bool)\n",
    "\n",
    "    correlograms = _create_correlograms_array(n_clusters, winsize_bins)\n",
    "\n",
    "    # The loop continues as long as there is at least one spike with\n",
    "    # a matching spike.\n",
    "    while mask[:-shift].any():\n",
    "        # Number of time samples between spike i and spike i+shift.\n",
    "        spike_diff = _diff_shifted(spike_samples, shift)\n",
    "\n",
    "        # Binarize the delays between spike i and spike i+shift.\n",
    "        spike_diff_b = spike_diff // binsize\n",
    "\n",
    "        # Spikes with no matching spikes are masked.\n",
    "        mask[:-shift][spike_diff_b > (winsize_bins // 2)] = False\n",
    "\n",
    "        # Cache the masked spike delays.\n",
    "        m = mask[:-shift].copy()\n",
    "        d = spike_diff_b[m]\n",
    "\n",
    "        # # Update the masks given the clusters to update.\n",
    "        # m0 = np.in1d(spike_clusters[:-shift], clusters)\n",
    "        # m = m & m0\n",
    "        # d = spike_diff_b[m]\n",
    "        d = spike_diff_b[m]\n",
    "\n",
    "        # Find the indices in the raveled correlograms array that need\n",
    "        # to be incremented, taking into account the spike clusters.\n",
    "        indices = np.ravel_multi_index(\n",
    "            (spike_clusters_i[:-shift][m], spike_clusters_i[+shift:][m], d),\n",
    "            correlograms.shape,\n",
    "        )\n",
    "\n",
    "        # Increment the matching spikes in the correlograms array.\n",
    "        _increment(correlograms.ravel(), indices)\n",
    "\n",
    "        shift += 1\n",
    "\n",
    "    if symmetrize:\n",
    "        return _symmetrize_correlograms(correlograms)\n",
    "    else:\n",
    "        return correlograms\n",
    "\n"
   ]
  }
 ],
 "metadata": {
  "kernelspec": {
   "display_name": "Python [conda env:opto2] *",
   "language": "python",
   "name": "conda-env-opto2-py"
  },
  "language_info": {
   "codemirror_mode": {
    "name": "ipython",
    "version": 3
   },
   "file_extension": ".py",
   "mimetype": "text/x-python",
   "name": "python",
   "nbconvert_exporter": "python",
   "pygments_lexer": "ipython3",
   "version": "3.8.6"
  }
 },
 "nbformat": 4,
 "nbformat_minor": 4
}
